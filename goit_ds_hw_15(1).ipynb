{
  "nbformat": 4,
  "nbformat_minor": 0,
  "metadata": {
    "colab": {
      "provenance": []
    },
    "kernelspec": {
      "name": "python3",
      "display_name": "Python 3"
    },
    "language_info": {
      "name": "python"
    }
  },
  "cells": [
    {
      "cell_type": "code",
      "execution_count": 1,
      "metadata": {
        "id": "PvHhRFPAmkNV"
      },
      "outputs": [],
      "source": [
        "import spacy\n",
        "import nltk\n",
        "from nltk.corpus import stopwords\n",
        "from nltk.tokenize import word_tokenize, sent_tokenize\n",
        "from string import punctuation\n",
        "from heapq import nlargest"
      ]
    },
    {
      "cell_type": "code",
      "source": [
        "nlp = spacy.load('en_core_web_sm')\n",
        "nltk.download('punkt_tab')\n",
        "nltk.download('stopwords')"
      ],
      "metadata": {
        "colab": {
          "base_uri": "https://localhost:8080/"
        },
        "id": "6qZ0LBronJ20",
        "outputId": "60772b15-ec2e-44c4-a50f-8a75ba9bb66a"
      },
      "execution_count": 2,
      "outputs": [
        {
          "output_type": "stream",
          "name": "stderr",
          "text": [
            "[nltk_data] Downloading package punkt_tab to /root/nltk_data...\n",
            "[nltk_data]   Unzipping tokenizers/punkt_tab.zip.\n",
            "[nltk_data] Downloading package stopwords to /root/nltk_data...\n",
            "[nltk_data]   Unzipping corpora/stopwords.zip.\n"
          ]
        },
        {
          "output_type": "execute_result",
          "data": {
            "text/plain": [
              "True"
            ]
          },
          "metadata": {},
          "execution_count": 2
        }
      ]
    },
    {
      "cell_type": "code",
      "source": [
        "\n",
        "text = \"The Orbiter Discovery, OV-103, is considered eligible for listing in the National Register of Historic Places (NRHP) in the context of the U.S. Space Shuttle Program (1969-2011) under Criterion A in the areas of Space Exploration and Transportation and under Criterion C in the area of Engineering. Because it has achieved significance within the past fifty years, Criteria Consideration G applies. Under Criterion A, Discovery is significant as the oldest of the three extant orbiter vehicles constructed for the Space Shuttle Program (SSP), the longest running American space program to date; she was the third of five orbiters built by NASA. Unlike the Mercury, Gemini, and Apollo programs, the SSP’s emphasis was on cost effectiveness and reusability, and eventually the construction of a space station. Including her maiden voyage (launched August 30, 1984), Discovery flew to space thirty-nine times, more than any of the other four orbiters; she was also the first orbiter to fly twenty missions. She had the honor of being chosen as the Return to Flight vehicle after both the Challenger and Columbia accidents. Discovery was the first shuttle to fly with the redesigned SRBs, a result of the Challenger accident, and the first shuttle to fly with the Phase II and Block I SSME. Discovery also carried the Hubble Space Telescope to orbit and performed two of the five servicing missions to the observatory. She flew the first and last dedicated Department of Defense (DoD) missions, as well as the first unclassified defense-related mission. In addition, Discovery was vital to the construction of the International Space Station (ISS); she flew thirteen of the thirty-seven total missions flown to the station by a U.S. Space Shuttle. She was the first orbiter to dock to the ISS, and the first to perform an exchange of a resident crew. Under Criterion C, Discovery is significant as a feat of engineering. According to Wayne Hale, a flight director from Johnson Space Center, the Space Shuttle orbiter represents a “huge technological leap from expendable rockets and capsules to a reusable, winged, hypersonic, cargo-carrying spacecraft.” Although her base structure followed a conventional aircraft design, she used advanced materials that both minimized her weight for cargo-carrying purposes and featured low thermal expansion ratios, which provided a stable base for her Thermal Protection System (TPS) materials. The Space Shuttle orbiter also featured the first reusable TPS; all previous spaceflight vehicles had a single-use, ablative heat shield. Other notable engineering achievements of the orbiter included the first reusable orbital propulsion system, and the first two-fault-tolerant Integrated Avionics System. As Hale stated, the Space Shuttle remains “the largest, fastest, winged hypersonic aircraft in history,” having regularly flown at twenty-five times the speed of sound.\"\n",
        "\n",
        "tokens = word_tokenize(text)\n",
        "sentences = sent_tokenize(text)\n",
        "stop_words = set(stopwords.words('english'))\n",
        "punctuation = punctuation + '\\n'"
      ],
      "metadata": {
        "id": "3squcd-lnkEY"
      },
      "execution_count": 3,
      "outputs": []
    },
    {
      "cell_type": "code",
      "source": [
        "print(tokens, '\\n')\n",
        "print(sentences, '\\n')\n",
        "print(stop_words)"
      ],
      "metadata": {
        "colab": {
          "base_uri": "https://localhost:8080/"
        },
        "id": "5elz_tjZqXVm",
        "outputId": "dfea1130-bcf0-4b2b-da0f-21d4338643bd"
      },
      "execution_count": 4,
      "outputs": [
        {
          "output_type": "stream",
          "name": "stdout",
          "text": [
            "['The', 'Orbiter', 'Discovery', ',', 'OV-103', ',', 'is', 'considered', 'eligible', 'for', 'listing', 'in', 'the', 'National', 'Register', 'of', 'Historic', 'Places', '(', 'NRHP', ')', 'in', 'the', 'context', 'of', 'the', 'U.S.', 'Space', 'Shuttle', 'Program', '(', '1969-2011', ')', 'under', 'Criterion', 'A', 'in', 'the', 'areas', 'of', 'Space', 'Exploration', 'and', 'Transportation', 'and', 'under', 'Criterion', 'C', 'in', 'the', 'area', 'of', 'Engineering', '.', 'Because', 'it', 'has', 'achieved', 'significance', 'within', 'the', 'past', 'fifty', 'years', ',', 'Criteria', 'Consideration', 'G', 'applies', '.', 'Under', 'Criterion', 'A', ',', 'Discovery', 'is', 'significant', 'as', 'the', 'oldest', 'of', 'the', 'three', 'extant', 'orbiter', 'vehicles', 'constructed', 'for', 'the', 'Space', 'Shuttle', 'Program', '(', 'SSP', ')', ',', 'the', 'longest', 'running', 'American', 'space', 'program', 'to', 'date', ';', 'she', 'was', 'the', 'third', 'of', 'five', 'orbiters', 'built', 'by', 'NASA', '.', 'Unlike', 'the', 'Mercury', ',', 'Gemini', ',', 'and', 'Apollo', 'programs', ',', 'the', 'SSP', '’', 's', 'emphasis', 'was', 'on', 'cost', 'effectiveness', 'and', 'reusability', ',', 'and', 'eventually', 'the', 'construction', 'of', 'a', 'space', 'station', '.', 'Including', 'her', 'maiden', 'voyage', '(', 'launched', 'August', '30', ',', '1984', ')', ',', 'Discovery', 'flew', 'to', 'space', 'thirty-nine', 'times', ',', 'more', 'than', 'any', 'of', 'the', 'other', 'four', 'orbiters', ';', 'she', 'was', 'also', 'the', 'first', 'orbiter', 'to', 'fly', 'twenty', 'missions', '.', 'She', 'had', 'the', 'honor', 'of', 'being', 'chosen', 'as', 'the', 'Return', 'to', 'Flight', 'vehicle', 'after', 'both', 'the', 'Challenger', 'and', 'Columbia', 'accidents', '.', 'Discovery', 'was', 'the', 'first', 'shuttle', 'to', 'fly', 'with', 'the', 'redesigned', 'SRBs', ',', 'a', 'result', 'of', 'the', 'Challenger', 'accident', ',', 'and', 'the', 'first', 'shuttle', 'to', 'fly', 'with', 'the', 'Phase', 'II', 'and', 'Block', 'I', 'SSME', '.', 'Discovery', 'also', 'carried', 'the', 'Hubble', 'Space', 'Telescope', 'to', 'orbit', 'and', 'performed', 'two', 'of', 'the', 'five', 'servicing', 'missions', 'to', 'the', 'observatory', '.', 'She', 'flew', 'the', 'first', 'and', 'last', 'dedicated', 'Department', 'of', 'Defense', '(', 'DoD', ')', 'missions', ',', 'as', 'well', 'as', 'the', 'first', 'unclassified', 'defense-related', 'mission', '.', 'In', 'addition', ',', 'Discovery', 'was', 'vital', 'to', 'the', 'construction', 'of', 'the', 'International', 'Space', 'Station', '(', 'ISS', ')', ';', 'she', 'flew', 'thirteen', 'of', 'the', 'thirty-seven', 'total', 'missions', 'flown', 'to', 'the', 'station', 'by', 'a', 'U.S.', 'Space', 'Shuttle', '.', 'She', 'was', 'the', 'first', 'orbiter', 'to', 'dock', 'to', 'the', 'ISS', ',', 'and', 'the', 'first', 'to', 'perform', 'an', 'exchange', 'of', 'a', 'resident', 'crew', '.', 'Under', 'Criterion', 'C', ',', 'Discovery', 'is', 'significant', 'as', 'a', 'feat', 'of', 'engineering', '.', 'According', 'to', 'Wayne', 'Hale', ',', 'a', 'flight', 'director', 'from', 'Johnson', 'Space', 'Center', ',', 'the', 'Space', 'Shuttle', 'orbiter', 'represents', 'a', '“', 'huge', 'technological', 'leap', 'from', 'expendable', 'rockets', 'and', 'capsules', 'to', 'a', 'reusable', ',', 'winged', ',', 'hypersonic', ',', 'cargo-carrying', 'spacecraft.', '”', 'Although', 'her', 'base', 'structure', 'followed', 'a', 'conventional', 'aircraft', 'design', ',', 'she', 'used', 'advanced', 'materials', 'that', 'both', 'minimized', 'her', 'weight', 'for', 'cargo-carrying', 'purposes', 'and', 'featured', 'low', 'thermal', 'expansion', 'ratios', ',', 'which', 'provided', 'a', 'stable', 'base', 'for', 'her', 'Thermal', 'Protection', 'System', '(', 'TPS', ')', 'materials', '.', 'The', 'Space', 'Shuttle', 'orbiter', 'also', 'featured', 'the', 'first', 'reusable', 'TPS', ';', 'all', 'previous', 'spaceflight', 'vehicles', 'had', 'a', 'single-use', ',', 'ablative', 'heat', 'shield', '.', 'Other', 'notable', 'engineering', 'achievements', 'of', 'the', 'orbiter', 'included', 'the', 'first', 'reusable', 'orbital', 'propulsion', 'system', ',', 'and', 'the', 'first', 'two-fault-tolerant', 'Integrated', 'Avionics', 'System', '.', 'As', 'Hale', 'stated', ',', 'the', 'Space', 'Shuttle', 'remains', '“', 'the', 'largest', ',', 'fastest', ',', 'winged', 'hypersonic', 'aircraft', 'in', 'history', ',', '”', 'having', 'regularly', 'flown', 'at', 'twenty-five', 'times', 'the', 'speed', 'of', 'sound', '.'] \n",
            "\n",
            "['The Orbiter Discovery, OV-103, is considered eligible for listing in the National Register of Historic Places (NRHP) in the context of the U.S. Space Shuttle Program (1969-2011) under Criterion A in the areas of Space Exploration and Transportation and under Criterion C in the area of Engineering.', 'Because it has achieved significance within the past fifty years, Criteria Consideration G applies.', 'Under Criterion A, Discovery is significant as the oldest of the three extant orbiter vehicles constructed for the Space Shuttle Program (SSP), the longest running American space program to date; she was the third of five orbiters built by NASA.', 'Unlike the Mercury, Gemini, and Apollo programs, the SSP’s emphasis was on cost effectiveness and reusability, and eventually the construction of a space station.', 'Including her maiden voyage (launched August 30, 1984), Discovery flew to space thirty-nine times, more than any of the other four orbiters; she was also the first orbiter to fly twenty missions.', 'She had the honor of being chosen as the Return to Flight vehicle after both the Challenger and Columbia accidents.', 'Discovery was the first shuttle to fly with the redesigned SRBs, a result of the Challenger accident, and the first shuttle to fly with the Phase II and Block I SSME.', 'Discovery also carried the Hubble Space Telescope to orbit and performed two of the five servicing missions to the observatory.', 'She flew the first and last dedicated Department of Defense (DoD) missions, as well as the first unclassified defense-related mission.', 'In addition, Discovery was vital to the construction of the International Space Station (ISS); she flew thirteen of the thirty-seven total missions flown to the station by a U.S. Space Shuttle.', 'She was the first orbiter to dock to the ISS, and the first to perform an exchange of a resident crew.', 'Under Criterion C, Discovery is significant as a feat of engineering.', 'According to Wayne Hale, a flight director from Johnson Space Center, the Space Shuttle orbiter represents a “huge technological leap from expendable rockets and capsules to a reusable, winged, hypersonic, cargo-carrying spacecraft.” Although her base structure followed a conventional aircraft design, she used advanced materials that both minimized her weight for cargo-carrying purposes and featured low thermal expansion ratios, which provided a stable base for her Thermal Protection System (TPS) materials.', 'The Space Shuttle orbiter also featured the first reusable TPS; all previous spaceflight vehicles had a single-use, ablative heat shield.', 'Other notable engineering achievements of the orbiter included the first reusable orbital propulsion system, and the first two-fault-tolerant Integrated Avionics System.', 'As Hale stated, the Space Shuttle remains “the largest, fastest, winged hypersonic aircraft in history,” having regularly flown at twenty-five times the speed of sound.'] \n",
            "\n",
            "{'what', 'own', 'whom', \"doesn't\", 'o', 'we', \"mustn't\", 'had', 'has', 'were', \"it'll\", \"hasn't\", 'his', \"we're\", 'you', 'your', 'wouldn', \"you'd\", 'how', 'down', 'wasn', 'have', 'shouldn', 'that', 'those', 'any', 'until', 'who', 's', 'this', 'in', 'was', 'these', 'been', 'll', \"they'll\", 'than', 'few', \"hadn't\", 'doing', 'are', \"she's\", 'him', 'can', 'each', 'above', 'am', 'yourself', \"i'll\", 'off', 'them', 'but', 'after', 'her', \"won't\", 'before', 'yours', \"shouldn't\", 'me', 'and', 'isn', \"mightn't\", 'again', 'ain', \"you've\", 'some', 'doesn', 'for', 'd', 'my', 'now', 'where', 'too', \"shan't\", 'only', 'it', 'having', 'a', \"he'd\", 'yourselves', 'all', 'or', \"we've\", 'do', \"i'd\", 'they', 'y', \"don't\", 'so', \"they'd\", 'more', 'mustn', \"they've\", 're', 'over', 'out', 'at', 'hers', 'he', 'if', 'below', 'against', \"he'll\", 'does', \"weren't\", 'why', \"haven't\", 'theirs', \"wasn't\", \"i've\", 'no', \"wouldn't\", \"she'd\", 'about', 'themselves', 'on', 'is', 'here', 't', 'hadn', 'herself', \"we'd\", 'won', 'same', \"it's\", 'then', 'from', 'both', 'hasn', 'most', 'myself', \"it'd\", 'she', 'don', 'when', 'there', 'during', 'while', 'not', 'shan', 'm', 'between', 'needn', \"she'll\", \"isn't\", 'their', \"we'll\", 'i', 'under', 'should', 'ourselves', 'couldn', 'because', 'an', \"should've\", 'weren', 'once', \"i'm\", 'mightn', \"aren't\", 'to', 'be', 'its', 'which', \"needn't\", 'himself', \"you're\", 'other', 'into', 'further', 'through', 'very', \"that'll\", \"he's\", 'haven', 'such', 'the', 've', \"couldn't\", 'itself', 'nor', 'up', 'by', 'just', 'of', 'as', \"didn't\", 'will', 'did', 'aren', \"they're\", 'didn', 'ma', 'our', 'being', \"you'll\", 'with', 'ours'}\n"
          ]
        }
      ]
    },
    {
      "cell_type": "code",
      "source": [
        "doc = nlp(text)\n",
        "\n",
        "word_frequencies = {}\n",
        "for word in doc:\n",
        "  if word.text.lower() not in stop_words:\n",
        "    if word.text.lower() not in punctuation:\n",
        "      if word.text not in word_frequencies.keys():\n",
        "        word_frequencies[word.text] = 1\n",
        "      else:\n",
        "        word_frequencies[word.text] += 1\n",
        "\n",
        "word_frequencies"
      ],
      "metadata": {
        "colab": {
          "base_uri": "https://localhost:8080/"
        },
        "id": "RGBr7lb_rDtC",
        "outputId": "8bb67071-ebbd-4992-aaa9-f3a6eaf06588"
      },
      "execution_count": 5,
      "outputs": [
        {
          "output_type": "execute_result",
          "data": {
            "text/plain": [
              "{'Orbiter': 1,\n",
              " 'Discovery': 7,\n",
              " 'OV-103': 1,\n",
              " 'considered': 1,\n",
              " 'eligible': 1,\n",
              " 'listing': 1,\n",
              " 'National': 1,\n",
              " 'Register': 1,\n",
              " 'Historic': 1,\n",
              " 'Places': 1,\n",
              " 'NRHP': 1,\n",
              " 'context': 1,\n",
              " 'U.S.': 2,\n",
              " 'Space': 10,\n",
              " 'Shuttle': 6,\n",
              " 'Program': 2,\n",
              " '1969': 1,\n",
              " '2011': 1,\n",
              " 'Criterion': 4,\n",
              " 'areas': 1,\n",
              " 'Exploration': 1,\n",
              " 'Transportation': 1,\n",
              " 'C': 2,\n",
              " 'area': 1,\n",
              " 'Engineering': 1,\n",
              " 'achieved': 1,\n",
              " 'significance': 1,\n",
              " 'within': 1,\n",
              " 'past': 1,\n",
              " 'fifty': 1,\n",
              " 'years': 1,\n",
              " 'Criteria': 1,\n",
              " 'Consideration': 1,\n",
              " 'G': 1,\n",
              " 'applies': 1,\n",
              " 'significant': 2,\n",
              " 'oldest': 1,\n",
              " 'three': 1,\n",
              " 'extant': 1,\n",
              " 'orbiter': 6,\n",
              " 'vehicles': 2,\n",
              " 'constructed': 1,\n",
              " 'SSP': 2,\n",
              " 'longest': 1,\n",
              " 'running': 1,\n",
              " 'American': 1,\n",
              " 'space': 3,\n",
              " 'program': 1,\n",
              " 'date': 1,\n",
              " 'third': 1,\n",
              " 'five': 3,\n",
              " 'orbiters': 2,\n",
              " 'built': 1,\n",
              " 'NASA': 1,\n",
              " 'Unlike': 1,\n",
              " 'Mercury': 1,\n",
              " 'Gemini': 1,\n",
              " 'Apollo': 1,\n",
              " 'programs': 1,\n",
              " '’s': 1,\n",
              " 'emphasis': 1,\n",
              " 'cost': 1,\n",
              " 'effectiveness': 1,\n",
              " 'reusability': 1,\n",
              " 'eventually': 1,\n",
              " 'construction': 2,\n",
              " 'station': 2,\n",
              " 'Including': 1,\n",
              " 'maiden': 1,\n",
              " 'voyage': 1,\n",
              " 'launched': 1,\n",
              " 'August': 1,\n",
              " '30': 1,\n",
              " '1984': 1,\n",
              " 'flew': 3,\n",
              " 'thirty': 2,\n",
              " 'nine': 1,\n",
              " 'times': 2,\n",
              " 'four': 1,\n",
              " 'also': 3,\n",
              " 'first': 10,\n",
              " 'fly': 3,\n",
              " 'twenty': 2,\n",
              " 'missions': 4,\n",
              " 'honor': 1,\n",
              " 'chosen': 1,\n",
              " 'Return': 1,\n",
              " 'Flight': 1,\n",
              " 'vehicle': 1,\n",
              " 'Challenger': 2,\n",
              " 'Columbia': 1,\n",
              " 'accidents': 1,\n",
              " 'shuttle': 2,\n",
              " 'redesigned': 1,\n",
              " 'SRBs': 1,\n",
              " 'result': 1,\n",
              " 'accident': 1,\n",
              " 'Phase': 1,\n",
              " 'II': 1,\n",
              " 'Block': 1,\n",
              " 'SSME': 1,\n",
              " 'carried': 1,\n",
              " 'Hubble': 1,\n",
              " 'Telescope': 1,\n",
              " 'orbit': 1,\n",
              " 'performed': 1,\n",
              " 'two': 2,\n",
              " 'servicing': 1,\n",
              " 'observatory': 1,\n",
              " 'last': 1,\n",
              " 'dedicated': 1,\n",
              " 'Department': 1,\n",
              " 'Defense': 1,\n",
              " 'DoD': 1,\n",
              " 'well': 1,\n",
              " 'unclassified': 1,\n",
              " 'defense': 1,\n",
              " 'related': 1,\n",
              " 'mission': 1,\n",
              " 'addition': 1,\n",
              " 'vital': 1,\n",
              " 'International': 1,\n",
              " 'Station': 1,\n",
              " 'ISS': 2,\n",
              " 'thirteen': 1,\n",
              " 'seven': 1,\n",
              " 'total': 1,\n",
              " 'flown': 2,\n",
              " 'dock': 1,\n",
              " 'perform': 1,\n",
              " 'exchange': 1,\n",
              " 'resident': 1,\n",
              " 'crew': 1,\n",
              " 'feat': 1,\n",
              " 'engineering': 2,\n",
              " 'According': 1,\n",
              " 'Wayne': 1,\n",
              " 'Hale': 2,\n",
              " 'flight': 1,\n",
              " 'director': 1,\n",
              " 'Johnson': 1,\n",
              " 'Center': 1,\n",
              " 'represents': 1,\n",
              " '“': 2,\n",
              " 'huge': 1,\n",
              " 'technological': 1,\n",
              " 'leap': 1,\n",
              " 'expendable': 1,\n",
              " 'rockets': 1,\n",
              " 'capsules': 1,\n",
              " 'reusable': 3,\n",
              " 'winged': 2,\n",
              " 'hypersonic': 2,\n",
              " 'cargo': 2,\n",
              " 'carrying': 2,\n",
              " 'spacecraft': 1,\n",
              " '”': 2,\n",
              " 'Although': 1,\n",
              " 'base': 2,\n",
              " 'structure': 1,\n",
              " 'followed': 1,\n",
              " 'conventional': 1,\n",
              " 'aircraft': 2,\n",
              " 'design': 1,\n",
              " 'used': 1,\n",
              " 'advanced': 1,\n",
              " 'materials': 2,\n",
              " 'minimized': 1,\n",
              " 'weight': 1,\n",
              " 'purposes': 1,\n",
              " 'featured': 2,\n",
              " 'low': 1,\n",
              " 'thermal': 1,\n",
              " 'expansion': 1,\n",
              " 'ratios': 1,\n",
              " 'provided': 1,\n",
              " 'stable': 1,\n",
              " 'Thermal': 1,\n",
              " 'Protection': 1,\n",
              " 'System': 2,\n",
              " 'TPS': 2,\n",
              " 'previous': 1,\n",
              " 'spaceflight': 1,\n",
              " 'single': 1,\n",
              " 'use': 1,\n",
              " 'ablative': 1,\n",
              " 'heat': 1,\n",
              " 'shield': 1,\n",
              " 'notable': 1,\n",
              " 'achievements': 1,\n",
              " 'included': 1,\n",
              " 'orbital': 1,\n",
              " 'propulsion': 1,\n",
              " 'system': 1,\n",
              " 'fault': 1,\n",
              " 'tolerant': 1,\n",
              " 'Integrated': 1,\n",
              " 'Avionics': 1,\n",
              " 'stated': 1,\n",
              " 'remains': 1,\n",
              " 'largest': 1,\n",
              " 'fastest': 1,\n",
              " 'history': 1,\n",
              " 'regularly': 1,\n",
              " 'speed': 1,\n",
              " 'sound': 1}"
            ]
          },
          "metadata": {},
          "execution_count": 5
        }
      ]
    },
    {
      "cell_type": "code",
      "source": [
        "\n",
        "def score_sentences(sentences, word_frequencies):\n",
        "  sentence_score = {}\n",
        "  for el, sentence in enumerate(sentences):\n",
        "    for word in sentence:\n",
        "      if word in word_frequencies:\n",
        "        if el in sentence_score:\n",
        "          sentence_score[sentence] += word_frequencies[word]\n",
        "        else:\n",
        "          sentence_score[sentence] = word_frequencies[word]\n",
        "      if len(sentence.split(' ')) > 25:\n",
        "        sentence_score[sentence] = 0\n",
        "  return sentence_score\n"
      ],
      "metadata": {
        "id": "hdD5Ca57tHGD"
      },
      "execution_count": 20,
      "outputs": []
    },
    {
      "cell_type": "code",
      "source": [
        "scores = score_sentences(sentences, word_frequencies)\n",
        "scores"
      ],
      "metadata": {
        "colab": {
          "base_uri": "https://localhost:8080/"
        },
        "id": "GFWSCREGxA6Q",
        "outputId": "8ef21352-badf-44da-8f1d-9431a90f1afb"
      },
      "execution_count": 21,
      "outputs": [
        {
          "output_type": "execute_result",
          "data": {
            "text/plain": [
              "{'The Orbiter Discovery, OV-103, is considered eligible for listing in the National Register of Historic Places (NRHP) in the context of the U.S. Space Shuttle Program (1969-2011) under Criterion A in the areas of Space Exploration and Transportation and under Criterion C in the area of Engineering.': 0,\n",
              " 'Because it has achieved significance within the past fifty years, Criteria Consideration G applies.': 1,\n",
              " 'Under Criterion A, Discovery is significant as the oldest of the three extant orbiter vehicles constructed for the Space Shuttle Program (SSP), the longest running American space program to date; she was the third of five orbiters built by NASA.': 0,\n",
              " 'Unlike the Mercury, Gemini, and Apollo programs, the SSP’s emphasis was on cost effectiveness and reusability, and eventually the construction of a space station.': 1,\n",
              " 'Including her maiden voyage (launched August 30, 1984), Discovery flew to space thirty-nine times, more than any of the other four orbiters; she was also the first orbiter to fly twenty missions.': 0,\n",
              " 'She had the honor of being chosen as the Return to Flight vehicle after both the Challenger and Columbia accidents.': 2,\n",
              " 'Discovery was the first shuttle to fly with the redesigned SRBs, a result of the Challenger accident, and the first shuttle to fly with the Phase II and Block I SSME.': 0,\n",
              " 'In addition, Discovery was vital to the construction of the International Space Station (ISS); she flew thirteen of the thirty-seven total missions flown to the station by a U.S. Space Shuttle.': 0,\n",
              " 'Under Criterion C, Discovery is significant as a feat of engineering.': 2,\n",
              " 'According to Wayne Hale, a flight director from Johnson Space Center, the Space Shuttle orbiter represents a “huge technological leap from expendable rockets and capsules to a reusable, winged, hypersonic, cargo-carrying spacecraft.” Although her base structure followed a conventional aircraft design, she used advanced materials that both minimized her weight for cargo-carrying purposes and featured low thermal expansion ratios, which provided a stable base for her Thermal Protection System (TPS) materials.': 0,\n",
              " 'As Hale stated, the Space Shuttle remains “the largest, fastest, winged hypersonic aircraft in history,” having regularly flown at twenty-five times the speed of sound.': 2}"
            ]
          },
          "metadata": {},
          "execution_count": 21
        }
      ]
    },
    {
      "cell_type": "code",
      "source": [
        "sentence_length = int(len(sentences))\n",
        "summary = nlargest(sentence_length, scores, key=scores.get)\n",
        "summary = ' '.join(summary)\n",
        "print(summary)"
      ],
      "metadata": {
        "colab": {
          "base_uri": "https://localhost:8080/"
        },
        "id": "Uc5k8xthxuyV",
        "outputId": "f90da996-e6e4-48b7-a15c-cb4e3954bf75"
      },
      "execution_count": 22,
      "outputs": [
        {
          "output_type": "stream",
          "name": "stdout",
          "text": [
            "She had the honor of being chosen as the Return to Flight vehicle after both the Challenger and Columbia accidents. Under Criterion C, Discovery is significant as a feat of engineering. As Hale stated, the Space Shuttle remains “the largest, fastest, winged hypersonic aircraft in history,” having regularly flown at twenty-five times the speed of sound. Because it has achieved significance within the past fifty years, Criteria Consideration G applies. Unlike the Mercury, Gemini, and Apollo programs, the SSP’s emphasis was on cost effectiveness and reusability, and eventually the construction of a space station. The Orbiter Discovery, OV-103, is considered eligible for listing in the National Register of Historic Places (NRHP) in the context of the U.S. Space Shuttle Program (1969-2011) under Criterion A in the areas of Space Exploration and Transportation and under Criterion C in the area of Engineering. Under Criterion A, Discovery is significant as the oldest of the three extant orbiter vehicles constructed for the Space Shuttle Program (SSP), the longest running American space program to date; she was the third of five orbiters built by NASA. Including her maiden voyage (launched August 30, 1984), Discovery flew to space thirty-nine times, more than any of the other four orbiters; she was also the first orbiter to fly twenty missions. Discovery was the first shuttle to fly with the redesigned SRBs, a result of the Challenger accident, and the first shuttle to fly with the Phase II and Block I SSME. In addition, Discovery was vital to the construction of the International Space Station (ISS); she flew thirteen of the thirty-seven total missions flown to the station by a U.S. Space Shuttle. According to Wayne Hale, a flight director from Johnson Space Center, the Space Shuttle orbiter represents a “huge technological leap from expendable rockets and capsules to a reusable, winged, hypersonic, cargo-carrying spacecraft.” Although her base structure followed a conventional aircraft design, she used advanced materials that both minimized her weight for cargo-carrying purposes and featured low thermal expansion ratios, which provided a stable base for her Thermal Protection System (TPS) materials.\n"
          ]
        }
      ]
    }
  ]
}